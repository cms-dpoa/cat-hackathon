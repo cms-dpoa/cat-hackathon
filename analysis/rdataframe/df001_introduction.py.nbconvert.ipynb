{
 "cells": [
  {
   "cell_type": "markdown",
   "metadata": {},
   "source": [
    "# df001_introduction\n",
    "Basic usage of RDataFrame from python.\n",
    "\n",
    "This tutorial illustrates the basic features of the RDataFrame class,\n",
    "a utility which allows to interact with data stored in TTrees following\n",
    "a functional-chain like approach.\n",
    "\n",
    "\n",
    "\n",
    "\n",
    "**Author:** Danilo Piparo (CERN)  \n",
    "<i><small>This notebook tutorial was automatically generated with <a href= \"https://github.com/root-project/root/blob/master/documentation/doxygen/converttonotebook.py\">ROOTBOOK-izer</a> from the macro found in the ROOT repository  on Monday, April 03, 2023 at 09:40 AM.</small></i>"
   ]
  },
  {
   "cell_type": "code",
   "execution_count": 1,
   "metadata": {
    "collapsed": false
   },
   "outputs": [
    {
     "ename": "ModuleNotFoundError",
     "evalue": "No module named 'ROOT'",
     "output_type": "error",
     "traceback": [
      "\u001b[0;31m---------------------------------------------------------------------------\u001b[0m",
      "\u001b[0;31mModuleNotFoundError\u001b[0m                       Traceback (most recent call last)",
      "Cell \u001b[0;32mIn[1], line 1\u001b[0m\n\u001b[0;32m----> 1\u001b[0m \u001b[39mimport\u001b[39;00m \u001b[39mROOT\u001b[39;00m\n",
      "\u001b[0;31mModuleNotFoundError\u001b[0m: No module named 'ROOT'"
     ]
    }
   ],
   "source": [
    "import ROOT"
   ]
  },
  {
   "cell_type": "markdown",
   "metadata": {},
   "source": [
    "A simple helper function to fill a test tree: this makes the example stand-alone."
   ]
  },
  {
   "cell_type": "code",
   "execution_count": 2,
   "metadata": {
    "collapsed": false
   },
   "outputs": [],
   "source": [
    "def fill_tree(treeName, fileName):\n",
    "    df = ROOT.RDataFrame(10)\n",
    "    df.Define(\"b1\", \"(double) rdfentry_\")\\\n",
    "      .Define(\"b2\", \"(int) rdfentry_ * rdfentry_\").Snapshot(treeName, fileName)"
   ]
  },
  {
   "cell_type": "markdown",
   "metadata": {},
   "source": [
    "We prepare an input tree to run on"
   ]
  },
  {
   "cell_type": "code",
   "execution_count": 3,
   "metadata": {
    "collapsed": false
   },
   "outputs": [],
   "source": [
    "fileName = \"df001_introduction_py.root\"\n",
    "treeName = \"myTree\"\n",
    "fill_tree(treeName, fileName)"
   ]
  },
  {
   "cell_type": "markdown",
   "metadata": {},
   "source": [
    "We read the tree from the file and create a RDataFrame, a class that\n",
    "allows us to interact with the data contained in the tree."
   ]
  },
  {
   "cell_type": "code",
   "execution_count": 4,
   "metadata": {
    "collapsed": false
   },
   "outputs": [],
   "source": [
    "d = ROOT.RDataFrame(treeName, fileName)"
   ]
  },
  {
   "cell_type": "markdown",
   "metadata": {},
   "source": [
    "Operations on the dataframe\n",
    "We now review some *actions* which can be performed on the data frame.\n",
    "Actions can be divided into instant actions (e. g. Foreach()) and lazy\n",
    "actions (e. g. Count()), depending on whether they trigger the event \n",
    "loop immediately or only when one of the results is accessed for the \n",
    "first time. Actions that return \"something\" either return their result \n",
    "wrapped in a RResultPtr or in a RDataFrame.\n",
    "But first of all, let us we define now our cut-flow with two strings.\n",
    "Filters can be expressed as strings. The content must be C++ code. The\n",
    "name of the variables must be the name of the branches. The code is\n",
    "just-in-time compiled."
   ]
  },
  {
   "cell_type": "code",
   "execution_count": 5,
   "metadata": {
    "collapsed": false
   },
   "outputs": [],
   "source": [
    "cutb1 = 'b1 < 5.'\n",
    "cutb1b2 = 'b2 % 2 && b1 < 4.'"
   ]
  },
  {
   "cell_type": "markdown",
   "metadata": {},
   "source": [
    "`Count` action\n",
    "The `Count` allows to retrieve the number of the entries that passed the\n",
    "filters. Here we show how the automatic selection of the column kicks\n",
    "in in case the user specifies none."
   ]
  },
  {
   "cell_type": "code",
   "execution_count": 6,
   "metadata": {
    "collapsed": false
   },
   "outputs": [
    {
     "name": "stdout",
     "output_type": "stream",
     "text": [
      "2 entries passed all filters\n",
      "5 entries passed all filters\n"
     ]
    }
   ],
   "source": [
    "entries1 = d.Filter(cutb1) \\\n",
    "            .Filter(cutb1b2) \\\n",
    "            .Count();\n",
    "\n",
    "print('{} entries passed all filters'.format(entries1.GetValue()))\n",
    "\n",
    "entries2 = d.Filter(\"b1 < 5.\").Count();\n",
    "print('{} entries passed all filters'.format(entries2.GetValue()))"
   ]
  },
  {
   "cell_type": "markdown",
   "metadata": {},
   "source": [
    "`Min`, `Max` and `Mean` actions\n",
    "These actions allow to retrieve statistical information about the entries\n",
    "passing the cuts, if any."
   ]
  },
  {
   "cell_type": "code",
   "execution_count": 7,
   "metadata": {
    "collapsed": false
   },
   "outputs": [
    {
     "name": "stdout",
     "output_type": "stream",
     "text": [
      "The mean is always included between the min and the max: 1.0 <= 2.0 <= 3.0\n"
     ]
    }
   ],
   "source": [
    "b1b2_cut = d.Filter(cutb1b2)\n",
    "minVal = b1b2_cut.Min('b1')\n",
    "maxVal = b1b2_cut.Max('b1')\n",
    "meanVal = b1b2_cut.Mean('b1')\n",
    "nonDefmeanVal = b1b2_cut.Mean(\"b2\")\n",
    "print('The mean is always included between the min and the max: {0} <= {1} <= {2}'.format(minVal.GetValue(), meanVal.GetValue(), maxVal.GetValue()))"
   ]
  },
  {
   "cell_type": "markdown",
   "metadata": {},
   "source": [
    "`Histo1D` action\n",
    "The `Histo1D` action allows to fill an histogram. It returns a TH1F filled\n",
    "with values of the column that passed the filters. For the most common\n",
    "types, the type of the values stored in the column is automatically\n",
    "guessed."
   ]
  },
  {
   "cell_type": "code",
   "execution_count": 8,
   "metadata": {
    "collapsed": false
   },
   "outputs": [
    {
     "name": "stdout",
     "output_type": "stream",
     "text": [
      "Filled h 5.0 times, mean: 2.0\n"
     ]
    }
   ],
   "source": [
    "hist = d.Filter(cutb1).Histo1D('b1')\n",
    "print('Filled h {0} times, mean: {1}'.format(hist.GetEntries(), hist.GetMean()))"
   ]
  },
  {
   "cell_type": "markdown",
   "metadata": {},
   "source": [
    "Express your chain of operations with clarity!\n",
    "We are discussing an example here but it is not hard to imagine much more\n",
    "complex pipelines of actions acting on data. Those might require code\n",
    "which is well organised, for example allowing to conditionally add filters\n",
    "or again to clearly separate filters and actions without the need of\n",
    "writing the entire pipeline on one line. This can be easily achieved.\n",
    "We'll show this re-working the `Count` example:"
   ]
  },
  {
   "cell_type": "code",
   "execution_count": 9,
   "metadata": {
    "collapsed": false
   },
   "outputs": [],
   "source": [
    "cutb1_result = d.Filter(cutb1);\n",
    "cutb1b2_result = d.Filter(cutb1b2);\n",
    "cutb1_cutb1b2_result = cutb1_result.Filter(cutb1b2)"
   ]
  },
  {
   "cell_type": "markdown",
   "metadata": {},
   "source": [
    "Now we want to count:"
   ]
  },
  {
   "cell_type": "code",
   "execution_count": 10,
   "metadata": {
    "collapsed": false
   },
   "outputs": [
    {
     "name": "stdout",
     "output_type": "stream",
     "text": [
      "Events passing cutb1: 5\n",
      "Events passing cutb1b2: 2\n",
      "Events passing both: 2\n"
     ]
    }
   ],
   "source": [
    "evts_cutb1_result = cutb1_result.Count()\n",
    "evts_cutb1b2_result = cutb1b2_result.Count()\n",
    "evts_cutb1_cutb1b2_result = cutb1_cutb1b2_result.Count()\n",
    "\n",
    "print('Events passing cutb1: {}'.format(evts_cutb1_result.GetValue()))\n",
    "print('Events passing cutb1b2: {}'.format(evts_cutb1b2_result.GetValue()))\n",
    "print('Events passing both: {}'.format(evts_cutb1_cutb1b2_result.GetValue()))"
   ]
  },
  {
   "cell_type": "markdown",
   "metadata": {},
   "source": [
    "Calculating quantities starting from existing columns\n",
    "Often, operations need to be carried out on quantities calculated starting\n",
    "from the ones present in the columns. We'll create in this example a third\n",
    "column, the values of which are the sum of the *b1* and *b2* ones, entry by\n",
    "entry. The way in which the new quantity is defined is via a callable.\n",
    "It is important to note two aspects at this point:\n",
    "- The value is created on the fly only if the entry passed the existing\n",
    "filters.\n",
    "- The newly created column behaves as the one present on the file on disk.\n",
    "- The operation creates a new value, without modifying anything. De facto,\n",
    "this is like having a general container at disposal able to accommodate\n",
    "any value of any type.\n",
    "Let's dive in an example:"
   ]
  },
  {
   "cell_type": "code",
   "execution_count": 11,
   "metadata": {
    "collapsed": false
   },
   "outputs": [
    {
     "name": "stdout",
     "output_type": "stream",
     "text": [
      "8\n"
     ]
    }
   ],
   "source": [
    "entries_sum = d.Define('sum', 'b2 + b1') \\\n",
    "               .Filter('sum > 4.2') \\\n",
    "               .Count()\n",
    "print(entries_sum.GetValue())"
   ]
  }
 ],
 "metadata": {
  "kernelspec": {
   "display_name": "Python 3",
   "language": "python",
   "name": "python3"
  },
  "language_info": {
   "codemirror_mode": {
    "name": "ipython",
    "version": 3
   },
   "file_extension": ".py",
   "mimetype": "text/x-python",
   "name": "python",
   "nbconvert_exporter": "python",
   "pygments_lexer": "ipython3",
   "version": "3.9.16"
  }
 },
 "nbformat": 4,
 "nbformat_minor": 4
}
